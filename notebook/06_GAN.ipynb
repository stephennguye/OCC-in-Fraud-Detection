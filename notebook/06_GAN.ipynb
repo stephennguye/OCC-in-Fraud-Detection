{
 "cells": [
  {
   "cell_type": "markdown",
   "id": "ca0c5567",
   "metadata": {},
   "source": [
    "# GAN UNDERSTAND\n"
   ]
  },
  {
   "cell_type": "markdown",
   "id": "14181b4b",
   "metadata": {},
   "source": [
    "## Knowledge"
   ]
  },
  {
   "cell_type": "markdown",
   "id": "534b3d93",
   "metadata": {},
   "source": [
    "**Generative Adversarial Network** is a type of machine learning framework developed by Ian Goodfellow in 2014. It is primarily used for generating new data that is similar to a given dataset, such as creating realistic images, audio, or text."
   ]
  },
  {
   "cell_type": "markdown",
   "id": "9455a5d5",
   "metadata": {},
   "source": [
    "| Component         | Acts Like        | Learns to...                                |\n",
    "| ----------------- | ---------------- | ------------------------------------------- |\n",
    "| Generator (G)     | A forger         | Make fake images that look like real digits |\n",
    "| Discriminator (D) | A police officer | Detect fake images from real ones           |\n"
   ]
  },
  {
   "cell_type": "markdown",
   "id": "5378ca8c",
   "metadata": {},
   "source": [
    "Each tries to beat the other:\n",
    "\n",
    "- The forger gets better at faking.\n",
    "- The police get better at detecting.\n",
    "\n",
    "Eventually, the forger becomes so good that it’s hard to tell what’s real.\n",
    "\n"
   ]
  },
  {
   "cell_type": "markdown",
   "id": "45faba67",
   "metadata": {},
   "source": [
    "How it works\n",
    "\n",
    "1. Start with real data (e.g., images of faces).\n",
    "\n",
    "2. The Generator takes random noise as input and produces a synthetic (fake) image.\n",
    "\n",
    "3. The Discriminator receives both real and fake images and tries to classify them correctly.\n",
    "\n",
    "4. Feedback from the Discriminator is used to update both networks using backpropagation."
   ]
  },
  {
   "cell_type": "code",
   "execution_count": null,
   "id": "51afd5fd",
   "metadata": {},
   "outputs": [],
   "source": [
    "Noise (z) ─► [Generator] ─► Fake Data ─┐\n",
    "                                      ▼\n",
    "                         ┌────────────┐\n",
    "Real Data ─────────────► │Discriminator│ ─► Real/Fake\n",
    "                         └────────────┘\n"
   ]
  },
  {
   "cell_type": "markdown",
   "id": "18c7d5eb",
   "metadata": {},
   "source": []
  },
  {
   "cell_type": "code",
   "execution_count": 21,
   "id": "eaf787fe",
   "metadata": {},
   "outputs": [],
   "source": [
    "import pandas as pd\n",
    "import numpy as np\n",
    "import torch\n",
    "import torch.nn as nn\n",
    "from sklearn.preprocessing import StandardScaler\n",
    "from sklearn.model_selection import train_test_split\n",
    "from sklearn.metrics import precision_recall_curve, roc_auc_score, classification_report\n",
    "import matplotlib.pyplot as plt\n",
    "\n",
    "# ==== Load & Preprocess ====\n",
    "df = pd.read_csv('cleaned_data.csv')\n",
    "\n",
    "\n",
    "\n"
   ]
  },
  {
   "cell_type": "markdown",
   "id": "664b31d1",
   "metadata": {},
   "source": [
    "## Tóm tắt điểm mạnh từ EDA có thể dùng cho GAN\n",
    "Features nên ưu tiên:\n",
    "\n",
    "- TransactionAmt, Dist1, C3, C7, C8, D1, D2, D5, D10, và nhóm V0-V13.\n",
    "- Features rối rắm/multicollinear: C-features và D-features có nhiều tương quan → chọn lọc.\n",
    "- Categorical: ProductCD, Card4, Card6, P_emaildomain, Addr1, Addr2 → encode hoặc bỏ.\n",
    "- V-columns (0 → 13): là các feature đã PCA hóa từ V0–V13 → phù hợp cho GAN.\n",
    "\n"
   ]
  },
  {
   "cell_type": "code",
   "execution_count": 22,
   "id": "1a21dfcb",
   "metadata": {},
   "outputs": [
    {
     "name": "stdout",
     "output_type": "stream",
     "text": [
      "📐 Kích thước đầu vào GAN: (20384, 21)\n",
      "\n",
      "🔍 Một dòng mẫu:\n",
      "[ 1.26123808 -0.59992844 -0.01566367 -0.1003339  -0.11707031  0.18063726\n",
      "  0.25813914 -0.73813903  0.35458279 -0.34166665 -0.29665839 -0.3220415\n",
      " -0.09065383  0.36131308 -0.14141036 -0.16210818  0.07859144 -0.39371691\n",
      "  0.18925833 -0.39538857  0.0294874 ]\n"
     ]
    }
   ],
   "source": [
    "from sklearn.preprocessing import StandardScaler\n",
    "\n",
    "\n",
    "\n",
    "# Chọn ra các feature có giá trị cao từ EDA\n",
    "base_features = ['TransactionAmt', 'dist1', 'C3', 'C7', 'C8', 'D1', 'D10']\n",
    "pca_features = [str(i) for i in range(14)]  # 0 đến 13\n",
    "all_features = base_features + pca_features\n",
    "\n",
    "# Tách các sample fraud\n",
    "fraud_data = df[df['isFraud'] == 1][all_features].copy()\n",
    "\n",
    "# Chuẩn hóa\n",
    "scaler = StandardScaler()\n",
    "fraud_data_scaled = scaler.fit_transform(fraud_data)\n",
    "\n",
    "import numpy as np\n",
    "fraud_tensor = np.array(fraud_data_scaled)\n",
    "\n",
    "print(\"📐 Kích thước đầu vào GAN:\", fraud_tensor.shape)\n",
    "print(\"\\n🔍 Một dòng mẫu:\")\n",
    "print(fraud_tensor[0])\n"
   ]
  },
  {
   "cell_type": "code",
   "execution_count": 23,
   "id": "c0c99194",
   "metadata": {},
   "outputs": [],
   "source": [
    "# Tạo lại X_fraud thật chuẩn hóa từ scaler hiện có\n",
    "X_fraud = scaler.transform(df[df['isFraud'] == 1][all_features])"
   ]
  },
  {
   "cell_type": "markdown",
   "id": "4ec16bfc",
   "metadata": {},
   "source": [
    "## GAN"
   ]
  },
  {
   "cell_type": "code",
   "execution_count": 16,
   "id": "111b6626",
   "metadata": {},
   "outputs": [],
   "source": [
    "import torch\n",
    "import torch.nn as nn\n",
    "\n",
    "# Kích thước latent (noise) vector\n",
    "latent_dim = 32\n",
    "input_dim = fraud_tensor.shape[1]\n",
    "\n",
    "# Generator\n",
    "class Generator(nn.Module):\n",
    "    def __init__(self, input_dim, latent_dim):\n",
    "        super(Generator, self).__init__()\n",
    "        self.model = nn.Sequential(\n",
    "            nn.Linear(latent_dim, 64),\n",
    "            nn.ReLU(),\n",
    "            nn.Linear(64, 128),\n",
    "            nn.ReLU(),\n",
    "            nn.Linear(128, input_dim)\n",
    "        )\n",
    "\n",
    "    def forward(self, z):\n",
    "        return self.model(z)\n",
    "\n",
    "# Discriminator\n",
    "class Discriminator(nn.Module):\n",
    "    def __init__(self, input_dim):\n",
    "        super(Discriminator, self).__init__()\n",
    "        self.model = nn.Sequential(\n",
    "            nn.Linear(input_dim, 128),\n",
    "            nn.LeakyReLU(0.2),\n",
    "            nn.Linear(128, 64),\n",
    "            nn.LeakyReLU(0.2),\n",
    "            nn.Linear(64, 1),\n",
    "            nn.Sigmoid()\n",
    "        )\n",
    "\n",
    "    def forward(self, x):\n",
    "        return self.model(x)\n"
   ]
  },
  {
   "cell_type": "markdown",
   "id": "b0460b20",
   "metadata": {},
   "source": [
    "## Tạo Dataset và Dataloader"
   ]
  },
  {
   "cell_type": "code",
   "execution_count": 17,
   "id": "47214fc1",
   "metadata": {},
   "outputs": [
    {
     "name": "stderr",
     "output_type": "stream",
     "text": [
      "C:\\Users\\ADMIN\\AppData\\Local\\Temp\\ipykernel_3772\\1781189232.py:4: UserWarning: To copy construct from a tensor, it is recommended to use sourceTensor.detach().clone() or sourceTensor.detach().clone().requires_grad_(True), rather than torch.tensor(sourceTensor).\n",
      "  fraud_tensor = torch.tensor(fraud_tensor, dtype=torch.float32)\n"
     ]
    }
   ],
   "source": [
    "from torch.utils.data import TensorDataset, DataLoader\n",
    "\n",
    "# Chuyển dữ liệu sang tensor\n",
    "fraud_tensor = torch.tensor(fraud_tensor, dtype=torch.float32)\n",
    "\n",
    "# Tạo dataset và dataloader\n",
    "batch_size = 128\n",
    "dataset = TensorDataset(fraud_tensor)\n",
    "dataloader = DataLoader(dataset, batch_size=batch_size, shuffle=True)\n"
   ]
  },
  {
   "cell_type": "markdown",
   "id": "0f85a6f9",
   "metadata": {},
   "source": [
    "## Khởi tạo model"
   ]
  },
  {
   "cell_type": "code",
   "execution_count": 18,
   "id": "6fa0d2ca",
   "metadata": {},
   "outputs": [],
   "source": [
    "device = torch.device(\"cuda\" if torch.cuda.is_available() else \"cpu\")\n",
    "\n",
    "generator = Generator(input_dim=input_dim, latent_dim=latent_dim).to(device)\n",
    "discriminator = Discriminator(input_dim=input_dim).to(device)\n",
    "\n",
    "# Loss và optimizers\n",
    "criterion = nn.BCELoss()\n",
    "lr = 0.0002\n",
    "g_optimizer = torch.optim.Adam(generator.parameters(), lr=lr)\n",
    "d_optimizer = torch.optim.Adam(discriminator.parameters(), lr=lr)\n"
   ]
  },
  {
   "cell_type": "markdown",
   "id": "a15a5a8c",
   "metadata": {},
   "source": [
    "## GAN training"
   ]
  },
  {
   "cell_type": "markdown",
   "id": "15b75dbb",
   "metadata": {},
   "source": [
    "Huấn luyện trong 50 epoch (có thể điều chỉnh sau), mỗi bước:\n",
    "\n",
    "- Sinh noise → tạo fake sample qua Generator\n",
    "- Tính loss của Discriminator: phân biệt real vs fake\n",
    "- Cập nhật Discriminator\n",
    "- Cập nhật Generator dựa trên phản hồi từ Discriminator\n",
    "\n"
   ]
  },
  {
   "cell_type": "code",
   "execution_count": 24,
   "id": "7b617378",
   "metadata": {},
   "outputs": [
    {
     "name": "stdout",
     "output_type": "stream",
     "text": [
      "Epoch 1/50 | D_loss: 0.7195 | G_loss: 1.6213\n",
      "Epoch 2/50 | D_loss: 0.7620 | G_loss: 1.4630\n",
      "Epoch 3/50 | D_loss: 0.8603 | G_loss: 1.1919\n",
      "Epoch 4/50 | D_loss: 1.0483 | G_loss: 1.5406\n",
      "Epoch 5/50 | D_loss: 0.9103 | G_loss: 1.2991\n",
      "Epoch 6/50 | D_loss: 0.8954 | G_loss: 1.3017\n",
      "Epoch 7/50 | D_loss: 1.0413 | G_loss: 1.1383\n",
      "Epoch 8/50 | D_loss: 0.8208 | G_loss: 1.3177\n",
      "Epoch 9/50 | D_loss: 0.8999 | G_loss: 1.2906\n",
      "Epoch 10/50 | D_loss: 0.6099 | G_loss: 1.4935\n",
      "Epoch 11/50 | D_loss: 0.8585 | G_loss: 1.4036\n",
      "Epoch 12/50 | D_loss: 0.9531 | G_loss: 1.5522\n",
      "Epoch 13/50 | D_loss: 1.0537 | G_loss: 1.6254\n",
      "Epoch 14/50 | D_loss: 0.7575 | G_loss: 1.4158\n",
      "Epoch 15/50 | D_loss: 1.3711 | G_loss: 0.9125\n",
      "Epoch 16/50 | D_loss: 1.8885 | G_loss: 1.4419\n",
      "Epoch 17/50 | D_loss: 0.8111 | G_loss: 1.5567\n",
      "Epoch 18/50 | D_loss: 1.0234 | G_loss: 1.3294\n",
      "Epoch 19/50 | D_loss: 0.7707 | G_loss: 1.3210\n",
      "Epoch 20/50 | D_loss: 0.5452 | G_loss: 1.7284\n",
      "Epoch 21/50 | D_loss: 0.9241 | G_loss: 1.3291\n",
      "Epoch 22/50 | D_loss: 0.9098 | G_loss: 1.3649\n",
      "Epoch 23/50 | D_loss: 0.9406 | G_loss: 1.2662\n",
      "Epoch 24/50 | D_loss: 0.9293 | G_loss: 1.2676\n",
      "Epoch 25/50 | D_loss: 1.0221 | G_loss: 1.2296\n",
      "Epoch 26/50 | D_loss: 0.7727 | G_loss: 1.4058\n",
      "Epoch 27/50 | D_loss: 1.0906 | G_loss: 1.1045\n",
      "Epoch 28/50 | D_loss: 0.9221 | G_loss: 1.4865\n",
      "Epoch 29/50 | D_loss: 0.7378 | G_loss: 1.4047\n",
      "Epoch 30/50 | D_loss: 0.8376 | G_loss: 1.4396\n",
      "Epoch 31/50 | D_loss: 0.8682 | G_loss: 1.1350\n",
      "Epoch 32/50 | D_loss: 0.9863 | G_loss: 1.2431\n",
      "Epoch 33/50 | D_loss: 1.3349 | G_loss: 1.1393\n",
      "Epoch 34/50 | D_loss: 1.4134 | G_loss: 0.9656\n",
      "Epoch 35/50 | D_loss: 1.0232 | G_loss: 1.1933\n",
      "Epoch 36/50 | D_loss: 1.3822 | G_loss: 0.9747\n",
      "Epoch 37/50 | D_loss: 1.0038 | G_loss: 1.1586\n",
      "Epoch 38/50 | D_loss: 0.8831 | G_loss: 1.2538\n",
      "Epoch 39/50 | D_loss: 1.0817 | G_loss: 1.3701\n",
      "Epoch 40/50 | D_loss: 1.0359 | G_loss: 1.0002\n",
      "Epoch 41/50 | D_loss: 0.9615 | G_loss: 1.2815\n",
      "Epoch 42/50 | D_loss: 1.0245 | G_loss: 1.0102\n",
      "Epoch 43/50 | D_loss: 1.1520 | G_loss: 1.1572\n",
      "Epoch 44/50 | D_loss: 1.1601 | G_loss: 1.0489\n",
      "Epoch 45/50 | D_loss: 0.8761 | G_loss: 1.5955\n",
      "Epoch 46/50 | D_loss: 0.7466 | G_loss: 1.3914\n",
      "Epoch 47/50 | D_loss: 1.1078 | G_loss: 1.2562\n",
      "Epoch 48/50 | D_loss: 0.7906 | G_loss: 1.2278\n",
      "Epoch 49/50 | D_loss: 0.9531 | G_loss: 1.1400\n",
      "Epoch 50/50 | D_loss: 0.7536 | G_loss: 1.2992\n"
     ]
    }
   ],
   "source": [
    "import torch.nn.functional as F\n",
    "\n",
    "num_epochs = 50\n",
    "\n",
    "for epoch in range(num_epochs):\n",
    "    for i, (real_samples,) in enumerate(dataloader):\n",
    "        batch_size_curr = real_samples.size(0)\n",
    "        real_samples = real_samples.to(device)\n",
    "\n",
    "        # === Discriminator Training ===\n",
    "        # Real labels = 1, Fake labels = 0\n",
    "        real_labels = torch.ones(batch_size_curr, 1).to(device)\n",
    "        fake_labels = torch.zeros(batch_size_curr, 1).to(device)\n",
    "\n",
    "        # Fake data generation\n",
    "        z = torch.randn(batch_size_curr, latent_dim).to(device)\n",
    "        fake_samples = generator(z)\n",
    "\n",
    "        # Discriminator loss on real and fake\n",
    "        real_loss = criterion(discriminator(real_samples), real_labels)\n",
    "        fake_loss = criterion(discriminator(fake_samples.detach()), fake_labels)\n",
    "        d_loss = real_loss + fake_loss\n",
    "\n",
    "        # Backprop + update D\n",
    "        d_optimizer.zero_grad()\n",
    "        d_loss.backward()\n",
    "        d_optimizer.step()\n",
    "\n",
    "        # === Generator Training ===\n",
    "        # Generator tries to fool the discriminator → wants labels to be 1\n",
    "        fake_preds = discriminator(fake_samples)\n",
    "        g_loss = criterion(fake_preds, real_labels)\n",
    "\n",
    "        g_optimizer.zero_grad()\n",
    "        g_loss.backward()\n",
    "        g_optimizer.step()\n",
    "\n",
    "    # Log sau mỗi epoch\n",
    "    print(f\"Epoch {epoch+1}/{num_epochs} | D_loss: {d_loss.item():.4f} | G_loss: {g_loss.item():.4f}\")\n"
   ]
  },
  {
   "cell_type": "markdown",
   "id": "83216241",
   "metadata": {},
   "source": [
    " Nhận xét nhanh về Loss\n",
    "D_loss ≈ 0.8 → 1.1 và G_loss ≈ 1.3 → 1.6 là hợp lý.\n",
    "\n",
    "Generator đang học được cách sinh mẫu đủ \"thuyết phục\" để làm khó Discriminator (G_loss tăng là dấu hiệu Discriminator gặp khó).\n",
    "\n",
    "Không có dấu hiệu collapse (G_loss = 0 hoặc D_loss = 0) → tốt!"
   ]
  },
  {
   "cell_type": "markdown",
   "id": "d3fcdb94",
   "metadata": {},
   "source": [
    "## Sinh dữ liệu fraud mới bằng Generator"
   ]
  },
  {
   "cell_type": "code",
   "execution_count": 12,
   "id": "002352dd",
   "metadata": {},
   "outputs": [
    {
     "name": "stdout",
     "output_type": "stream",
     "text": [
      "📊 Hình dạng mẫu sinh: (1000, 21)\n",
      "🔍 Một mẫu đầu ra:\n",
      "[-0.10092352 -0.53820044  0.03321011 -0.1281558  -0.03791657 -0.06383107\n",
      " -0.65316534 -0.42693755  0.2987935  -0.28875443 -0.32565624 -0.09271497\n",
      " -0.04288922  0.1828239   0.29883635  0.40143955  0.07072622 -0.23750322\n",
      " -0.12418028 -0.22233966  0.1855041 ]\n"
     ]
    }
   ],
   "source": [
    "# Sinh 1000 mẫu fraud giả\n",
    "generator.eval()\n",
    "with torch.no_grad():\n",
    "    z = torch.randn(1000, latent_dim).to(device)\n",
    "    gen_fraud = generator(z).cpu().numpy()\n",
    "\n",
    "print(\"📊 Hình dạng mẫu sinh:\", gen_fraud.shape)\n",
    "print(\"🔍 Một mẫu đầu ra:\")\n",
    "print(gen_fraud[0])\n"
   ]
  },
  {
   "cell_type": "markdown",
   "id": "f0e332c6",
   "metadata": {},
   "source": [
    "Generator đã sinh ra 1000 mẫu có cấu trúc chuẩn xác (shape đúng, giá trị hợp lý, không trùng lặp rõ ràng)\n",
    "\n",
    "ví dụ như dòng đầu tiên có phân phối giống như dữ liệu thật."
   ]
  },
  {
   "cell_type": "markdown",
   "id": "e8046743",
   "metadata": {},
   "source": [
    "## Đánh giá chất lượng mẫu fraud sinh ra"
   ]
  },
  {
   "cell_type": "markdown",
   "id": "bd872e0b",
   "metadata": {},
   "source": [
    "### Có 3 cách đánh giá:\n",
    "1.  Đánh giá bằng Discriminator (nhanh, nội tại)\n",
    "\n",
    "2. Trực quan hóa PCA/t-SNE (thấy trực tiếp sự giống nhau)\n",
    "\n",
    "3. Dùng classifier thật để đánh giá fraud (chuyên sâu hơn)"
   ]
  },
  {
   "cell_type": "markdown",
   "id": "777e807d",
   "metadata": {},
   "source": [
    "### Discriminator"
   ]
  },
  {
   "cell_type": "code",
   "execution_count": 26,
   "id": "21b5c1be",
   "metadata": {},
   "outputs": [
    {
     "name": "stdout",
     "output_type": "stream",
     "text": [
      "📈 Discriminator score - fake (gen):\n",
      "Mean: 0.31305742  | Min: 6.023881e-05  | Max: 0.97066665\n",
      "\n",
      "📈 Discriminator score - real (fraud):\n",
      "Mean: 0.6729197  | Min: 0.041158505  | Max: 1.0\n"
     ]
    }
   ],
   "source": [
    "# Đánh giá mẫu fake\n",
    "gen_scores = discriminator(torch.tensor(gen_fraud, dtype=torch.float32).to(device)).detach().cpu().numpy()\n",
    "\n",
    "# Đánh giá mẫu fraud thật\n",
    "real_scores = discriminator(torch.tensor(X_fraud, dtype=torch.float32).to(device)).detach().cpu().numpy()\n",
    "\n",
    "print(\"📈 Discriminator score - fake (gen):\")\n",
    "print(\"Mean:\", gen_scores.mean(), \" | Min:\", gen_scores.min(), \" | Max:\", gen_scores.max())\n",
    "\n",
    "print(\"\\n📈 Discriminator score - real (fraud):\")\n",
    "print(\"Mean:\", real_scores.mean(), \" | Min:\", real_scores.min(), \" | Max:\", real_scores.max())\n",
    "\n"
   ]
  },
  {
   "cell_type": "markdown",
   "id": "eb6fd65c",
   "metadata": {},
   "source": [
    "Discriminator chưa hoàn toàn bị đánh lừa, nhưng:\n",
    "\n",
    "Có một số mẫu sinh ra đạt điểm rất cao (≈0.97), gần như giống fraud thật.\n",
    "\n",
    "Độ lệch giữa mean (0.31 vs. 0.67) cho thấy mẫu giả chưa hoàn toàn giống, nhưng đang tiến gần.\n",
    "\n",
    "Điều này phản ánh Generator đang bắt đầu học được phân phối fraud, nhưng cần huấn luyện thêm nếu muốn đánh lừa mạnh hơn."
   ]
  },
  {
   "cell_type": "markdown",
   "id": "28c964e6",
   "metadata": {},
   "source": [
    "###  Cách 2 – Trực quan hóa bằng PCA hoặc t-SNE"
   ]
  },
  {
   "cell_type": "markdown",
   "id": "d1a7faed",
   "metadata": {},
   "source": [
    "Mục tiêu là so sánh trực tiếp phân phối giữa:\n",
    "\n",
    "gen_fraud (mẫu giả)\n",
    "\n",
    "X_fraud (mẫu thật)\n",
    "\n"
   ]
  },
  {
   "cell_type": "code",
   "execution_count": 27,
   "id": "4aa1c815",
   "metadata": {},
   "outputs": [
    {
     "data": {
      "image/png": "[encoded data removed]",
      "text/plain": [
       "<Figure size 800x600 with 1 Axes>"
      ]
     },
     "metadata": {},
     "output_type": "display_data"
    }
   ],
   "source": [
    "from sklearn.decomposition import PCA\n",
    "import matplotlib.pyplot as plt\n",
    "\n",
    "# Kết hợp hai loại dữ liệu\n",
    "X_all = np.vstack([X_fraud, gen_fraud])\n",
    "labels = np.array([1]*len(X_fraud) + [0]*len(gen_fraud))  # 1: real, 0: fake\n",
    "\n",
    "# Giảm chiều bằng PCA\n",
    "pca = PCA(n_components=2)\n",
    "X_pca = pca.fit_transform(X_all)\n",
    "\n",
    "# Vẽ biểu đồ\n",
    "plt.figure(figsize=(8,6))\n",
    "plt.scatter(X_pca[labels == 1, 0], X_pca[labels == 1, 1], c='blue', label='Fraud (Real)', alpha=0.4)\n",
    "plt.scatter(X_pca[labels == 0, 0], X_pca[labels == 0, 1], c='red', label='Fraud (Fake)', alpha=0.4)\n",
    "plt.legend()\n",
    "plt.title(\"PCA Visualization of Real vs. Generated Fraud Samples\")\n",
    "plt.xlabel(\"PC 1\")\n",
    "plt.ylabel(\"PC 2\")\n",
    "plt.grid(True)\n",
    "plt.show()\n"
   ]
  },
  {
   "cell_type": "markdown",
   "id": "dc8a59a5",
   "metadata": {},
   "source": [
    "Quan sát từ biểu đồ:\n",
    "\n",
    "Màu đỏ (fake) tập trung thành một khối rất chặt.\n",
    "\n",
    "Màu xanh (real fraud) phân tán rộng, với nhiều điểm nằm xa trung tâm.\n",
    "\n",
    "Vùng chồng lấn giữa fake và real cho thấy Generator đang học được vùng \"an toàn\" và phổ biến nhất trong không gian fraud.\n",
    "\n",
    "Tuy nhiên, Generator chưa tạo được sự đa dạng, thiếu các vùng ngoại biên (outliers hoặc anomaly-like fraud)."
   ]
  },
  {
   "cell_type": "markdown",
   "id": "a72b15c8",
   "metadata": {},
   "source": [
    " Kết luận bước 2:\n",
    " \n",
    "Mẫu fake trông rất giống mẫu fraud thật ở vùng trung tâm → ✅ GAN đang làm việc tốt ở vùng “điển hình”.\n",
    "\n",
    "Tuy nhiên:\n",
    "\n",
    "Mẫu fake ít đa dạng, chưa học được các dạng fraud hiếm/lệch.\n",
    "\n",
    "Có thể cải thiện bằng training lâu hơn hoặc dùng noise injection, feature augmentation, hoặc mode-seeking loss."
   ]
  },
  {
   "cell_type": "markdown",
   "id": "31d725cd",
   "metadata": {},
   "source": [
    "### Cách 3: Đánh giá bằng Classifier ngoài"
   ]
  },
  {
   "cell_type": "markdown",
   "id": "5738e110",
   "metadata": {},
   "source": [
    "Gộp gen_fraud và X_fraud\n",
    "\n",
    "Gán nhãn: 0 = fake, 1 = real\n",
    "\n",
    "Train classifier để xem có phân biệt được không\n",
    "\n"
   ]
  },
  {
   "cell_type": "code",
   "execution_count": 28,
   "id": "160d07fc",
   "metadata": {},
   "outputs": [
    {
     "name": "stdout",
     "output_type": "stream",
     "text": [
      "              precision    recall  f1-score   support\n",
      "\n",
      "           0     0.9084    0.8057    0.8539       283\n",
      "           1     0.9911    0.9962    0.9937      6133\n",
      "\n",
      "    accuracy                         0.9878      6416\n",
      "   macro avg     0.9497    0.9010    0.9238      6416\n",
      "weighted avg     0.9874    0.9878    0.9875      6416\n",
      "\n"
     ]
    }
   ],
   "source": [
    "from sklearn.linear_model import LogisticRegression\n",
    "from sklearn.metrics import classification_report\n",
    "from sklearn.model_selection import train_test_split\n",
    "\n",
    "# Dữ liệu + nhãn\n",
    "X_cls = np.vstack([gen_fraud, X_fraud])\n",
    "y_cls = np.array([0]*len(gen_fraud) + [1]*len(X_fraud))  # 0 = fake, 1 = real\n",
    "\n",
    "# Train/test split\n",
    "X_train_cls, X_test_cls, y_train_cls, y_test_cls = train_test_split(X_cls, y_cls, test_size=0.3, random_state=42)\n",
    "\n",
    "# Train logistic regression\n",
    "clf = LogisticRegression(max_iter=1000)\n",
    "clf.fit(X_train_cls, y_train_cls)\n",
    "\n",
    "# Dự đoán + báo cáo\n",
    "y_pred = clf.predict(X_test_cls)\n",
    "print(classification_report(y_test_cls, y_pred, digits=4))\n"
   ]
  },
  {
   "cell_type": "markdown",
   "id": "bb99e672",
   "metadata": {},
   "source": [
    "Classifier có thể phân biệt tương đối tốt fake và real (accuracy ~98.7%).\n",
    "\n",
    "Tuy nhiên:\n",
    "\n",
    "Fake sample không hoàn toàn dễ phân biệt → Precision cao (0.91), nhưng Recall chỉ 0.80 → khoảng 20% mẫu fake bị nhầm là real.\n",
    "\n",
    "Real fraud được phân biệt gần như hoàn hảo."
   ]
  },
  {
   "cell_type": "markdown",
   "id": "ac1109b5",
   "metadata": {},
   "source": [
    "| Phương pháp          | Kết luận chính                                                                                                                 |\n",
    "| -------------------- | ------------------------------------------------------------------------------------------------------------------------------ |\n",
    "| **1. Discriminator** | Fake samples có điểm thấp hơn real (0.31 vs 0.67), nhưng một số fake điểm cao → Generator học được vùng fraud đáng tin cậy.    |\n",
    "| **2. PCA**           | Fake samples tập trung mạnh ở vùng trung tâm fraud; chưa tái hiện được các dạng outlier.                                       |\n",
    "| **3. Classifier**    | Có thể phân biệt được fake vs real, nhưng không hoàn hảo. GAN sinh dữ liệu tương đối tự nhiên, nhưng chưa hoàn toàn \"ẩn mình\". |\n"
   ]
  },
  {
   "cell_type": "code",
   "execution_count": null,
   "id": "ff4b2a5a",
   "metadata": {},
   "outputs": [],
   "source": []
  }
 ],
 "metadata": {
  "kernelspec": {
   "display_name": "Python 3",
   "language": "python",
   "name": "python3"
  },
  "language_info": {
   "codemirror_mode": {
    "name": "ipython",
    "version": 3
   },
   "file_extension": ".py",
   "mimetype": "text/x-python",
   "name": "python",
   "nbconvert_exporter": "python",
   "pygments_lexer": "ipython3",
   "version": "3.13.0"
  }
 },
 "nbformat": 4,
 "nbformat_minor": 5
}
