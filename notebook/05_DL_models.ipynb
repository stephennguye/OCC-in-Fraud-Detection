{
 "cells": [
  {
   "cell_type": "code",
   "execution_count": null,
   "metadata": {
    "_cell_guid": "b1076dfc-b9ad-4769-8c92-a6c4dae69d19",
    "_uuid": "8f2839f25d086af736a60e9eeb907d3b93b6e0e5",
    "execution": {
     "iopub.execute_input": "2025-06-10T14:22:07.361809Z",
     "iopub.status.busy": "2025-06-10T14:22:07.360775Z",
     "iopub.status.idle": "2025-06-10T14:22:07.368636Z",
     "shell.execute_reply": "2025-06-10T14:22:07.367590Z",
     "shell.execute_reply.started": "2025-06-10T14:22:07.361779Z"
    },
    "trusted": true
   },
   "outputs": [],
   "source": [
    "import numpy as np\n",
    "import pandas as pd\n",
    "import matplotlib.pyplot as plt\n",
    "import seaborn as sns\n",
    "from sklearn.preprocessing import OrdinalEncoder, OneHotEncoder, StandardScaler\n",
    "from sklearn.compose import ColumnTransformer\n",
    "from sklearn.decomposition import IncrementalPCA\n",
    "from sklearn.metrics import (\n",
    "    accuracy_score, precision_score, recall_score, f1_score,\n",
    "    roc_auc_score, average_precision_score,\n",
    "    classification_report, confusion_matrix, roc_curve)\n",
    "import tensorflow as tf\n",
    "from tensorflow.keras import layers, models, regularizers\n",
    "from tensorflow.keras.models import Model\n",
    "from tensorflow.keras.layers import Input, Dense, Dropout\n",
    "from sklearn.model_selection import train_test_split\n",
    "from tensorflow.keras.optimizers import Adam"
   ]
  },
  {
   "cell_type": "code",
   "execution_count": 21,
   "metadata": {
    "execution": {
     "iopub.execute_input": "2025-06-10T14:22:07.371013Z",
     "iopub.status.busy": "2025-06-10T14:22:07.370655Z",
     "iopub.status.idle": "2025-06-10T14:22:16.371562Z",
     "shell.execute_reply": "2025-06-10T14:22:16.370437Z",
     "shell.execute_reply.started": "2025-06-10T14:22:07.370976Z"
    },
    "trusted": true
   },
   "outputs": [],
   "source": [
    "# Load dataset\n",
    "df_main = pd.read_csv('/kaggle/input/issfraud/cleaned_data.csv', low_memory=False, index_col=0)\n",
    "\n",
    "# Make a copy to avoid modifying the original\n",
    "df = df_main.copy()\n",
    "\n",
    "# Separate target variable\n",
    "y_all = df['isFraud'].values\n",
    "df.drop(columns=['isFraud'], inplace=True)"
   ]
  },
  {
   "cell_type": "code",
   "execution_count": 22,
   "metadata": {
    "execution": {
     "iopub.execute_input": "2025-06-10T14:22:16.373044Z",
     "iopub.status.busy": "2025-06-10T14:22:16.372698Z",
     "iopub.status.idle": "2025-06-10T14:22:17.053108Z",
     "shell.execute_reply": "2025-06-10T14:22:17.052114Z",
     "shell.execute_reply.started": "2025-06-10T14:22:16.373016Z"
    },
    "trusted": true
   },
   "outputs": [],
   "source": [
    "# Replace infrequent 'card2' values with 'others'\n",
    "card2_counts = df['card2'].value_counts(dropna=False)\n",
    "common_values = card2_counts[card2_counts > 1000].index\n",
    "df['card2'] = df['card2'].apply(lambda x: x if x in common_values else 'others')\n",
    "\n",
    "# Drop high-cardinality or non-useful columns\n",
    "df.drop(columns=['card5', 'card1'], inplace=True)"
   ]
  },
  {
   "cell_type": "code",
   "execution_count": 23,
   "metadata": {
    "execution": {
     "iopub.execute_input": "2025-06-10T14:22:17.054438Z",
     "iopub.status.busy": "2025-06-10T14:22:17.054137Z",
     "iopub.status.idle": "2025-06-10T14:22:17.320651Z",
     "shell.execute_reply": "2025-06-10T14:22:17.319755Z",
     "shell.execute_reply.started": "2025-06-10T14:22:17.054405Z"
    },
    "trusted": true
   },
   "outputs": [],
   "source": [
    "# Define feature column groups\n",
    "label_col = ['addr2']\n",
    "cat_col = ['card2', 'P_emaildomain', 'ProductCD', 'card3', 'card4', 'addr1', 'DeviceType']\n",
    "num_col = [\n",
    "    'dist1', 'C1', 'C2', 'C3', 'C4', 'C5', 'C6', 'C7', 'C8', 'C9', 'C10', 'C11',\n",
    "    'C12', 'C13', 'C14', 'D1', 'D2', 'D3', 'D4', 'D5', 'D10', 'VerificationSet', 'MatchingCount'\n",
    "]\n",
    "\n",
    "# Convert categorical columns to string before encoding\n",
    "df[cat_col] = df[cat_col].astype(str)"
   ]
  },
  {
   "cell_type": "code",
   "execution_count": 24,
   "metadata": {
    "execution": {
     "iopub.execute_input": "2025-06-10T14:22:17.323119Z",
     "iopub.status.busy": "2025-06-10T14:22:17.322853Z",
     "iopub.status.idle": "2025-06-10T14:22:17.328314Z",
     "shell.execute_reply": "2025-06-10T14:22:17.327274Z",
     "shell.execute_reply.started": "2025-06-10T14:22:17.323099Z"
    },
    "trusted": true
   },
   "outputs": [],
   "source": [
    "# Initialize transformers\n",
    "label_encoder = OrdinalEncoder()\n",
    "onehot_encoder = OneHotEncoder(sparse_output=False)\n",
    "scaler = StandardScaler()\n",
    "\n",
    "# Create column transformer\n",
    "ct = ColumnTransformer(transformers=[\n",
    "    ('label', label_encoder, label_col),\n",
    "    ('onehot', onehot_encoder, cat_col),\n",
    "    ('num', scaler, num_col)\n",
    "])"
   ]
  },
  {
   "cell_type": "code",
   "execution_count": 25,
   "metadata": {
    "execution": {
     "iopub.execute_input": "2025-06-10T14:22:17.329551Z",
     "iopub.status.busy": "2025-06-10T14:22:17.329216Z",
     "iopub.status.idle": "2025-06-10T14:22:17.367701Z",
     "shell.execute_reply": "2025-06-10T14:22:17.366864Z",
     "shell.execute_reply.started": "2025-06-10T14:22:17.329519Z"
    },
    "trusted": true
   },
   "outputs": [],
   "source": [
    "# Keep already-encoded columns if needed (optional; you can remove if unnecessary)\n",
    "keep_cols = ['0', '1', '2', '3', '4', '5', '6', '7', '8', '9', '10', '11', '12', '13']\n",
    "keep = df[keep_cols]"
   ]
  },
  {
   "cell_type": "code",
   "execution_count": 26,
   "metadata": {
    "execution": {
     "iopub.execute_input": "2025-06-10T14:22:17.368951Z",
     "iopub.status.busy": "2025-06-10T14:22:17.368648Z",
     "iopub.status.idle": "2025-06-10T14:22:21.124481Z",
     "shell.execute_reply": "2025-06-10T14:22:21.123692Z",
     "shell.execute_reply.started": "2025-06-10T14:22:17.368919Z"
    },
    "trusted": true
   },
   "outputs": [],
   "source": [
    "# Apply transformations\n",
    "X_transformed = ct.fit_transform(df)\n",
    "\n",
    "# Get column names\n",
    "X_transformed_df = pd.DataFrame(X_transformed, columns=ct.get_feature_names_out())\n",
    "\n",
    "# Combine with optional kept features\n",
    "X_all = pd.concat([X_transformed_df, keep], axis=1)"
   ]
  },
  {
   "cell_type": "code",
   "execution_count": 27,
   "metadata": {
    "execution": {
     "iopub.execute_input": "2025-06-10T14:22:21.125794Z",
     "iopub.status.busy": "2025-06-10T14:22:21.125429Z",
     "iopub.status.idle": "2025-06-10T14:22:22.201622Z",
     "shell.execute_reply": "2025-06-10T14:22:22.200908Z",
     "shell.execute_reply.started": "2025-06-10T14:22:21.125764Z"
    },
    "trusted": true
   },
   "outputs": [],
   "source": [
    "# Use only normal samples for training/validation\n",
    "X_train = X_all[y_all == 0]\n",
    "X_test = X_all  # Evaluate on full data\n",
    "\n",
    "# Split validation from normal training data\n",
    "X_train, X_val = train_test_split(X_train, test_size=0.1, random_state=42)"
   ]
  },
  {
   "cell_type": "code",
   "execution_count": 28,
   "metadata": {
    "execution": {
     "iopub.execute_input": "2025-06-10T14:22:22.202832Z",
     "iopub.status.busy": "2025-06-10T14:22:22.202533Z",
     "iopub.status.idle": "2025-06-10T14:22:22.210350Z",
     "shell.execute_reply": "2025-06-10T14:22:22.209205Z",
     "shell.execute_reply.started": "2025-06-10T14:22:22.202807Z"
    },
    "trusted": true
   },
   "outputs": [],
   "source": [
    "input_dim = X_train.shape[1]\n",
    "\n",
    "def build_autoencoder(input_dim):\n",
    "    input_layer = Input(shape=(input_dim,))\n",
    "    encoded = Dense(128, activation='relu')(input_layer)\n",
    "    encoded = Dense(64, activation='relu')(encoded)\n",
    "    encoded = Dense(32, activation='relu')(encoded)\n",
    "    decoded = Dense(64, activation='relu')(encoded)\n",
    "    decoded = Dense(128, activation='relu')(decoded)\n",
    "    output_layer = Dense(input_dim, activation='linear')(decoded)\n",
    "    \n",
    "    autoencoder = Model(inputs=input_layer, outputs=output_layer)\n",
    "    autoencoder.compile(optimizer=Adam(learning_rate=0.001), loss='mse')\n",
    "    return autoencoder"
   ]
  },
  {
   "cell_type": "code",
   "execution_count": 29,
   "metadata": {
    "execution": {
     "iopub.execute_input": "2025-06-10T14:22:22.211641Z",
     "iopub.status.busy": "2025-06-10T14:22:22.211294Z",
     "iopub.status.idle": "2025-06-10T14:30:42.503745Z",
     "shell.execute_reply": "2025-06-10T14:30:42.502727Z",
     "shell.execute_reply.started": "2025-06-10T14:22:22.211608Z"
    },
    "trusted": true
   },
   "outputs": [
    {
     "name": "stdout",
     "output_type": "stream",
     "text": [
      "Epoch 1/50\n",
      "\u001b[1m1994/1994\u001b[0m \u001b[32m━━━━━━━━━━━━━━━━━━━━\u001b[0m\u001b[37m\u001b[0m \u001b[1m12s\u001b[0m 5ms/step - loss: 0.1963 - val_loss: 0.0560\n",
      "Epoch 2/50\n",
      "\u001b[1m1994/1994\u001b[0m \u001b[32m━━━━━━━━━━━━━━━━━━━━\u001b[0m\u001b[37m\u001b[0m \u001b[1m9s\u001b[0m 5ms/step - loss: 0.0394 - val_loss: 0.0207\n",
      "Epoch 3/50\n",
      "\u001b[1m1994/1994\u001b[0m \u001b[32m━━━━━━━━━━━━━━━━━━━━\u001b[0m\u001b[37m\u001b[0m \u001b[1m10s\u001b[0m 5ms/step - loss: 0.0241 - val_loss: 0.0195\n",
      "Epoch 4/50\n",
      "\u001b[1m1994/1994\u001b[0m \u001b[32m━━━━━━━━━━━━━━━━━━━━\u001b[0m\u001b[37m\u001b[0m \u001b[1m9s\u001b[0m 5ms/step - loss: 0.0242 - val_loss: 0.0470\n",
      "Epoch 5/50\n",
      "\u001b[1m1994/1994\u001b[0m \u001b[32m━━━━━━━━━━━━━━━━━━━━\u001b[0m\u001b[37m\u001b[0m \u001b[1m9s\u001b[0m 5ms/step - loss: 0.0248 - val_loss: 0.0156\n",
      "Epoch 6/50\n",
      "\u001b[1m1994/1994\u001b[0m \u001b[32m━━━━━━━━━━━━━━━━━━━━\u001b[0m\u001b[37m\u001b[0m \u001b[1m10s\u001b[0m 5ms/step - loss: 0.0243 - val_loss: 0.0137\n",
      "Epoch 7/50\n",
      "\u001b[1m1994/1994\u001b[0m \u001b[32m━━━━━━━━━━━━━━━━━━━━\u001b[0m\u001b[37m\u001b[0m \u001b[1m10s\u001b[0m 5ms/step - loss: 0.0156 - val_loss: 0.0149\n",
      "Epoch 8/50\n",
      "\u001b[1m1994/1994\u001b[0m \u001b[32m━━━━━━━━━━━━━━━━━━━━\u001b[0m\u001b[37m\u001b[0m \u001b[1m10s\u001b[0m 5ms/step - loss: 0.0366 - val_loss: 0.0129\n",
      "Epoch 9/50\n",
      "\u001b[1m1994/1994\u001b[0m \u001b[32m━━━━━━━━━━━━━━━━━━━━\u001b[0m\u001b[37m\u001b[0m \u001b[1m10s\u001b[0m 5ms/step - loss: 0.0169 - val_loss: 0.0111\n",
      "Epoch 10/50\n",
      "\u001b[1m1994/1994\u001b[0m \u001b[32m━━━━━━━━━━━━━━━━━━━━\u001b[0m\u001b[37m\u001b[0m \u001b[1m10s\u001b[0m 5ms/step - loss: 0.0167 - val_loss: 0.0138\n",
      "Epoch 11/50\n",
      "\u001b[1m1994/1994\u001b[0m \u001b[32m━━━━━━━━━━━━━━━━━━━━\u001b[0m\u001b[37m\u001b[0m \u001b[1m9s\u001b[0m 5ms/step - loss: 0.0253 - val_loss: 0.0158\n",
      "Epoch 12/50\n",
      "\u001b[1m1994/1994\u001b[0m \u001b[32m━━━━━━━━━━━━━━━━━━━━\u001b[0m\u001b[37m\u001b[0m \u001b[1m10s\u001b[0m 5ms/step - loss: 0.0187 - val_loss: 0.0133\n",
      "Epoch 13/50\n",
      "\u001b[1m1994/1994\u001b[0m \u001b[32m━━━━━━━━━━━━━━━━━━━━\u001b[0m\u001b[37m\u001b[0m \u001b[1m10s\u001b[0m 5ms/step - loss: 0.0275 - val_loss: 0.0118\n",
      "Epoch 14/50\n",
      "\u001b[1m1994/1994\u001b[0m \u001b[32m━━━━━━━━━━━━━━━━━━━━\u001b[0m\u001b[37m\u001b[0m \u001b[1m10s\u001b[0m 5ms/step - loss: 0.0196 - val_loss: 0.0202\n",
      "Epoch 15/50\n",
      "\u001b[1m1994/1994\u001b[0m \u001b[32m━━━━━━━━━━━━━━━━━━━━\u001b[0m\u001b[37m\u001b[0m \u001b[1m10s\u001b[0m 5ms/step - loss: 0.0147 - val_loss: 0.0119\n",
      "Epoch 16/50\n",
      "\u001b[1m1994/1994\u001b[0m \u001b[32m━━━━━━━━━━━━━━━━━━━━\u001b[0m\u001b[37m\u001b[0m \u001b[1m10s\u001b[0m 5ms/step - loss: 0.0161 - val_loss: 0.0102\n",
      "Epoch 17/50\n",
      "\u001b[1m1994/1994\u001b[0m \u001b[32m━━━━━━━━━━━━━━━━━━━━\u001b[0m\u001b[37m\u001b[0m \u001b[1m10s\u001b[0m 5ms/step - loss: 0.0149 - val_loss: 0.0151\n",
      "Epoch 18/50\n",
      "\u001b[1m1994/1994\u001b[0m \u001b[32m━━━━━━━━━━━━━━━━━━━━\u001b[0m\u001b[37m\u001b[0m \u001b[1m10s\u001b[0m 5ms/step - loss: 0.0261 - val_loss: 0.0114\n",
      "Epoch 19/50\n",
      "\u001b[1m1994/1994\u001b[0m \u001b[32m━━━━━━━━━━━━━━━━━━━━\u001b[0m\u001b[37m\u001b[0m \u001b[1m10s\u001b[0m 5ms/step - loss: 0.0132 - val_loss: 0.0141\n",
      "Epoch 20/50\n",
      "\u001b[1m1994/1994\u001b[0m \u001b[32m━━━━━━━━━━━━━━━━━━━━\u001b[0m\u001b[37m\u001b[0m \u001b[1m10s\u001b[0m 5ms/step - loss: 0.0261 - val_loss: 0.0103\n",
      "Epoch 21/50\n",
      "\u001b[1m1994/1994\u001b[0m \u001b[32m━━━━━━━━━━━━━━━━━━━━\u001b[0m\u001b[37m\u001b[0m \u001b[1m10s\u001b[0m 5ms/step - loss: 0.0224 - val_loss: 0.0276\n",
      "Epoch 22/50\n",
      "\u001b[1m1994/1994\u001b[0m \u001b[32m━━━━━━━━━━━━━━━━━━━━\u001b[0m\u001b[37m\u001b[0m \u001b[1m10s\u001b[0m 5ms/step - loss: 0.0154 - val_loss: 0.0103\n",
      "Epoch 23/50\n",
      "\u001b[1m1994/1994\u001b[0m \u001b[32m━━━━━━━━━━━━━━━━━━━━\u001b[0m\u001b[37m\u001b[0m \u001b[1m11s\u001b[0m 5ms/step - loss: 0.0134 - val_loss: 0.0143\n",
      "Epoch 24/50\n",
      "\u001b[1m1994/1994\u001b[0m \u001b[32m━━━━━━━━━━━━━━━━━━━━\u001b[0m\u001b[37m\u001b[0m \u001b[1m10s\u001b[0m 5ms/step - loss: 0.0169 - val_loss: 0.0243\n",
      "Epoch 25/50\n",
      "\u001b[1m1994/1994\u001b[0m \u001b[32m━━━━━━━━━━━━━━━━━━━━\u001b[0m\u001b[37m\u001b[0m \u001b[1m10s\u001b[0m 5ms/step - loss: 0.0136 - val_loss: 0.0107\n",
      "Epoch 26/50\n",
      "\u001b[1m1994/1994\u001b[0m \u001b[32m━━━━━━━━━━━━━━━━━━━━\u001b[0m\u001b[37m\u001b[0m \u001b[1m10s\u001b[0m 5ms/step - loss: 0.0147 - val_loss: 0.0090\n",
      "Epoch 27/50\n",
      "\u001b[1m1994/1994\u001b[0m \u001b[32m━━━━━━━━━━━━━━━━━━━━\u001b[0m\u001b[37m\u001b[0m \u001b[1m9s\u001b[0m 5ms/step - loss: 0.0123 - val_loss: 0.0101\n",
      "Epoch 28/50\n",
      "\u001b[1m1994/1994\u001b[0m \u001b[32m━━━━━━━━━━━━━━━━━━━━\u001b[0m\u001b[37m\u001b[0m \u001b[1m10s\u001b[0m 5ms/step - loss: 0.0131 - val_loss: 0.0081\n",
      "Epoch 29/50\n",
      "\u001b[1m1994/1994\u001b[0m \u001b[32m━━━━━━━━━━━━━━━━━━━━\u001b[0m\u001b[37m\u001b[0m \u001b[1m10s\u001b[0m 5ms/step - loss: 0.0101 - val_loss: 0.0152\n",
      "Epoch 30/50\n",
      "\u001b[1m1994/1994\u001b[0m \u001b[32m━━━━━━━━━━━━━━━━━━━━\u001b[0m\u001b[37m\u001b[0m \u001b[1m10s\u001b[0m 5ms/step - loss: 0.0381 - val_loss: 0.0115\n",
      "Epoch 31/50\n",
      "\u001b[1m1994/1994\u001b[0m \u001b[32m━━━━━━━━━━━━━━━━━━━━\u001b[0m\u001b[37m\u001b[0m \u001b[1m10s\u001b[0m 5ms/step - loss: 0.0200 - val_loss: 0.0255\n",
      "Epoch 32/50\n",
      "\u001b[1m1994/1994\u001b[0m \u001b[32m━━━━━━━━━━━━━━━━━━━━\u001b[0m\u001b[37m\u001b[0m \u001b[1m11s\u001b[0m 5ms/step - loss: 0.0148 - val_loss: 0.0117\n",
      "Epoch 33/50\n",
      "\u001b[1m1994/1994\u001b[0m \u001b[32m━━━━━━━━━━━━━━━━━━━━\u001b[0m\u001b[37m\u001b[0m \u001b[1m10s\u001b[0m 5ms/step - loss: 0.0144 - val_loss: 0.0084\n",
      "Epoch 34/50\n",
      "\u001b[1m1994/1994\u001b[0m \u001b[32m━━━━━━━━━━━━━━━━━━━━\u001b[0m\u001b[37m\u001b[0m \u001b[1m10s\u001b[0m 5ms/step - loss: 0.0213 - val_loss: 0.0118\n",
      "Epoch 35/50\n",
      "\u001b[1m1994/1994\u001b[0m \u001b[32m━━━━━━━━━━━━━━━━━━━━\u001b[0m\u001b[37m\u001b[0m \u001b[1m10s\u001b[0m 5ms/step - loss: 0.0122 - val_loss: 0.0105\n",
      "Epoch 36/50\n",
      "\u001b[1m1994/1994\u001b[0m \u001b[32m━━━━━━━━━━━━━━━━━━━━\u001b[0m\u001b[37m\u001b[0m \u001b[1m10s\u001b[0m 5ms/step - loss: 0.0164 - val_loss: 0.0113\n",
      "Epoch 37/50\n",
      "\u001b[1m1994/1994\u001b[0m \u001b[32m━━━━━━━━━━━━━━━━━━━━\u001b[0m\u001b[37m\u001b[0m \u001b[1m10s\u001b[0m 5ms/step - loss: 0.0128 - val_loss: 0.0126\n",
      "Epoch 38/50\n",
      "\u001b[1m1994/1994\u001b[0m \u001b[32m━━━━━━━━━━━━━━━━━━━━\u001b[0m\u001b[37m\u001b[0m \u001b[1m10s\u001b[0m 5ms/step - loss: 0.0188 - val_loss: 0.0099\n",
      "Epoch 39/50\n",
      "\u001b[1m1994/1994\u001b[0m \u001b[32m━━━━━━━━━━━━━━━━━━━━\u001b[0m\u001b[37m\u001b[0m \u001b[1m10s\u001b[0m 5ms/step - loss: 0.0102 - val_loss: 0.0130\n",
      "Epoch 40/50\n",
      "\u001b[1m1994/1994\u001b[0m \u001b[32m━━━━━━━━━━━━━━━━━━━━\u001b[0m\u001b[37m\u001b[0m \u001b[1m10s\u001b[0m 5ms/step - loss: 0.0126 - val_loss: 0.0078\n",
      "Epoch 41/50\n",
      "\u001b[1m1994/1994\u001b[0m \u001b[32m━━━━━━━━━━━━━━━━━━━━\u001b[0m\u001b[37m\u001b[0m \u001b[1m10s\u001b[0m 5ms/step - loss: 0.0236 - val_loss: 0.0098\n",
      "Epoch 42/50\n",
      "\u001b[1m1994/1994\u001b[0m \u001b[32m━━━━━━━━━━━━━━━━━━━━\u001b[0m\u001b[37m\u001b[0m \u001b[1m10s\u001b[0m 5ms/step - loss: 0.0132 - val_loss: 0.0102\n",
      "Epoch 43/50\n",
      "\u001b[1m1994/1994\u001b[0m \u001b[32m━━━━━━━━━━━━━━━━━━━━\u001b[0m\u001b[37m\u001b[0m \u001b[1m10s\u001b[0m 5ms/step - loss: 0.0131 - val_loss: 0.0112\n",
      "Epoch 44/50\n",
      "\u001b[1m1994/1994\u001b[0m \u001b[32m━━━━━━━━━━━━━━━━━━━━\u001b[0m\u001b[37m\u001b[0m \u001b[1m10s\u001b[0m 5ms/step - loss: 0.0303 - val_loss: 0.0103\n",
      "Epoch 45/50\n",
      "\u001b[1m1994/1994\u001b[0m \u001b[32m━━━━━━━━━━━━━━━━━━━━\u001b[0m\u001b[37m\u001b[0m \u001b[1m10s\u001b[0m 5ms/step - loss: 0.0152 - val_loss: 0.0103\n",
      "Epoch 46/50\n",
      "\u001b[1m1994/1994\u001b[0m \u001b[32m━━━━━━━━━━━━━━━━━━━━\u001b[0m\u001b[37m\u001b[0m \u001b[1m10s\u001b[0m 5ms/step - loss: 0.0259 - val_loss: 0.0104\n",
      "Epoch 47/50\n",
      "\u001b[1m1994/1994\u001b[0m \u001b[32m━━━━━━━━━━━━━━━━━━━━\u001b[0m\u001b[37m\u001b[0m \u001b[1m10s\u001b[0m 5ms/step - loss: 0.0117 - val_loss: 0.0212\n",
      "Epoch 48/50\n",
      "\u001b[1m1994/1994\u001b[0m \u001b[32m━━━━━━━━━━━━━━━━━━━━\u001b[0m\u001b[37m\u001b[0m \u001b[1m10s\u001b[0m 5ms/step - loss: 0.0189 - val_loss: 0.0119\n",
      "Epoch 49/50\n",
      "\u001b[1m1994/1994\u001b[0m \u001b[32m━━━━━━━━━━━━━━━━━━━━\u001b[0m\u001b[37m\u001b[0m \u001b[1m11s\u001b[0m 5ms/step - loss: 0.0167 - val_loss: 0.0096\n",
      "Epoch 50/50\n",
      "\u001b[1m1994/1994\u001b[0m \u001b[32m━━━━━━━━━━━━━━━━━━━━\u001b[0m\u001b[37m\u001b[0m \u001b[1m10s\u001b[0m 5ms/step - loss: 0.0098 - val_loss: 0.2055\n"
     ]
    }
   ],
   "source": [
    "autoencoder = build_autoencoder(input_dim)\n",
    "\n",
    "history = autoencoder.fit(\n",
    "    X_train, X_train,\n",
    "    epochs=50,\n",
    "    batch_size=256,\n",
    "    validation_data=(X_val, X_val),\n",
    "    shuffle=True,\n",
    "    verbose=1\n",
    ")"
   ]
  },
  {
   "cell_type": "code",
   "execution_count": 30,
   "metadata": {
    "execution": {
     "iopub.execute_input": "2025-06-10T14:30:42.506165Z",
     "iopub.status.busy": "2025-06-10T14:30:42.505913Z",
     "iopub.status.idle": "2025-06-10T14:31:41.352298Z",
     "shell.execute_reply": "2025-06-10T14:31:41.351539Z",
     "shell.execute_reply.started": "2025-06-10T14:30:42.506146Z"
    },
    "trusted": true
   },
   "outputs": [
    {
     "name": "stdout",
     "output_type": "stream",
     "text": [
      "\u001b[1m18358/18358\u001b[0m \u001b[32m━━━━━━━━━━━━━━━━━━━━\u001b[0m\u001b[37m\u001b[0m \u001b[1m23s\u001b[0m 1ms/step\n",
      "\u001b[1m15949/15949\u001b[0m \u001b[32m━━━━━━━━━━━━━━━━━━━━\u001b[0m\u001b[37m\u001b[0m \u001b[1m20s\u001b[0m 1ms/step\n"
     ]
    }
   ],
   "source": [
    "# Reconstruction errors\n",
    "reconstructions = autoencoder.predict(X_test)\n",
    "mse = np.mean(np.square(reconstructions - X_test), axis=1)\n",
    "\n",
    "# Threshold: 95th percentile of train errors\n",
    "threshold = np.percentile(np.mean(np.square(autoencoder.predict(X_train) - X_train), axis=1), 95)\n",
    "\n",
    "# Prediction\n",
    "autoencoder_preds = (mse > threshold).astype(int)\n"
   ]
  },
  {
   "cell_type": "code",
   "execution_count": 31,
   "metadata": {
    "execution": {
     "iopub.execute_input": "2025-06-10T14:31:41.353468Z",
     "iopub.status.busy": "2025-06-10T14:31:41.353149Z",
     "iopub.status.idle": "2025-06-10T14:31:41.362750Z",
     "shell.execute_reply": "2025-06-10T14:31:41.361800Z",
     "shell.execute_reply.started": "2025-06-10T14:31:41.353436Z"
    },
    "trusted": true
   },
   "outputs": [],
   "source": [
    "def evaluate_model(name, y_true, y_pred, scores=None, plot_roc=True):\n",
    "    print(f\"\\n=== Evaluation for {name} ===\")\n",
    "    \n",
    "    acc = accuracy_score(y_true, y_pred)\n",
    "    prec = precision_score(y_true, y_pred)\n",
    "    rec = recall_score(y_true, y_pred)\n",
    "    f1 = f1_score(y_true, y_pred)\n",
    "    \n",
    "    # If scores are provided, compute ROC AUC and PR AUC\n",
    "    if scores is not None:\n",
    "        roc_auc = roc_auc_score(y_true, scores)\n",
    "        pr_auc = average_precision_score(y_true, scores)\n",
    "    else:\n",
    "        roc_auc = roc_auc_score(y_true, y_pred)\n",
    "        pr_auc = average_precision_score(y_true, y_pred)\n",
    "\n",
    "    print(f\"Accuracy:  {acc:.4f}\")\n",
    "    print(f\"Precision: {prec:.4f}\")\n",
    "    print(f\"Recall:    {rec:.4f}\")\n",
    "    print(f\"F1 Score:  {f1:.4f}\")\n",
    "    print(f\"ROC AUC:   {roc_auc:.4f}\")\n",
    "    print(f\"PR AUC:    {pr_auc:.4f}\")\n",
    "    \n",
    "    print(\"\\nClassification Report:\\n\", classification_report(y_true, y_pred))\n",
    "    print(\"Confusion Matrix:\\n\", confusion_matrix(y_true, y_pred))\n",
    "\n",
    "    if plot_roc and scores is not None:\n",
    "        fpr, tpr, _ = roc_curve(y_true, scores)\n",
    "        plt.figure(figsize=(6, 5))\n",
    "        plt.plot(fpr, tpr, label=f'{name} (AUC = {roc_auc:.4f})')\n",
    "        plt.plot([0, 1], [0, 1], linestyle='--', color='gray')\n",
    "        plt.xlabel('False Positive Rate')\n",
    "        plt.ylabel('True Positive Rate')\n",
    "        plt.title(f'ROC Curve - {name}')\n",
    "        plt.legend()\n",
    "        plt.grid(True)\n",
    "        plt.tight_layout()\n",
    "        plt.show()\n"
   ]
  },
  {
   "cell_type": "code",
   "execution_count": 32,
   "metadata": {
    "execution": {
     "iopub.execute_input": "2025-06-10T14:31:41.364015Z",
     "iopub.status.busy": "2025-06-10T14:31:41.363779Z",
     "iopub.status.idle": "2025-06-10T14:31:43.671566Z",
     "shell.execute_reply": "2025-06-10T14:31:43.670449Z",
     "shell.execute_reply.started": "2025-06-10T14:31:41.363997Z"
    },
    "trusted": true
   },
   "outputs": [
    {
     "name": "stdout",
     "output_type": "stream",
     "text": [
      "\n",
      "=== Evaluation for Autoencoder ===\n",
      "Accuracy:  0.9253\n",
      "Precision: 0.1462\n",
      "Recall:    0.2380\n",
      "F1 Score:  0.1812\n",
      "ROC AUC:   0.6563\n",
      "PR AUC:    0.1079\n",
      "\n",
      "Classification Report:\n",
      "               precision    recall  f1-score   support\n",
      "\n",
      "           0       0.97      0.95      0.96    567057\n",
      "           1       0.15      0.24      0.18     20384\n",
      "\n",
      "    accuracy                           0.93    587441\n",
      "   macro avg       0.56      0.59      0.57    587441\n",
      "weighted avg       0.94      0.93      0.93    587441\n",
      "\n",
      "Confusion Matrix:\n",
      " [[538725  28332]\n",
      " [ 15532   4852]]\n"
     ]
    },
    {
     "data": {
      "image/png": "[encoded data removed]",
      "text/plain": [
       "<Figure size 600x500 with 1 Axes>"
      ]
     },
     "metadata": {},
     "output_type": "display_data"
    }
   ],
   "source": [
    "evaluate_model(\"Autoencoder\", y_all, autoencoder_preds, scores=mse)"
   ]
  },
  {
   "cell_type": "code",
   "execution_count": 33,
   "metadata": {
    "execution": {
     "iopub.execute_input": "2025-06-10T14:31:43.675107Z",
     "iopub.status.busy": "2025-06-10T14:31:43.674831Z",
     "iopub.status.idle": "2025-06-10T14:31:43.681400Z",
     "shell.execute_reply": "2025-06-10T14:31:43.680116Z",
     "shell.execute_reply.started": "2025-06-10T14:31:43.675087Z"
    },
    "trusted": true
   },
   "outputs": [],
   "source": [
    "def build_deep_svdd(input_dim):\n",
    "    input_layer = Input(shape=(input_dim,))\n",
    "    x = Dense(128, activation='relu', kernel_regularizer=regularizers.l2(1e-4))(input_layer)\n",
    "    x = Dense(64, activation='relu', kernel_regularizer=regularizers.l2(1e-4))(x)\n",
    "    x = Dense(32, activation='relu', name='feature_layer')(x)  # Feature space\n",
    "    model = Model(inputs=input_layer, outputs=x)\n",
    "    return model"
   ]
  },
  {
   "cell_type": "code",
   "execution_count": 34,
   "metadata": {
    "execution": {
     "iopub.execute_input": "2025-06-10T14:31:43.682883Z",
     "iopub.status.busy": "2025-06-10T14:31:43.682535Z",
     "iopub.status.idle": "2025-06-10T14:33:16.296374Z",
     "shell.execute_reply": "2025-06-10T14:33:16.295475Z",
     "shell.execute_reply.started": "2025-06-10T14:31:43.682852Z"
    },
    "trusted": true
   },
   "outputs": [
    {
     "name": "stdout",
     "output_type": "stream",
     "text": [
      "\u001b[1m15949/15949\u001b[0m \u001b[32m━━━━━━━━━━━━━━━━━━━━\u001b[0m\u001b[37m\u001b[0m \u001b[1m18s\u001b[0m 1ms/step\n",
      "Epoch 0, Loss: 0.1641\n",
      "Epoch 5, Loss: 0.0523\n",
      "Epoch 10, Loss: 0.0327\n",
      "Epoch 15, Loss: 0.0258\n",
      "Epoch 20, Loss: 0.0219\n",
      "Epoch 25, Loss: 0.0191\n",
      "Epoch 30, Loss: 0.0167\n",
      "Epoch 35, Loss: 0.0148\n",
      "Epoch 40, Loss: 0.0132\n",
      "Epoch 45, Loss: 0.0116\n"
     ]
    }
   ],
   "source": [
    "deep_svdd = build_deep_svdd(input_dim)\n",
    "optimizer = tf.keras.optimizers.Adam()\n",
    "\n",
    "# Get center of the hypersphere\n",
    "center = np.mean(deep_svdd.predict(X_train), axis=0)\n",
    "\n",
    "# Custom training loop\n",
    "@tf.function\n",
    "def train_step(x):\n",
    "    with tf.GradientTape() as tape:\n",
    "        output = deep_svdd(x)\n",
    "        loss = tf.reduce_mean(tf.square(output - center))\n",
    "    grads = tape.gradient(loss, deep_svdd.trainable_variables)\n",
    "    optimizer.apply_gradients(zip(grads, deep_svdd.trainable_variables))\n",
    "    return loss\n",
    "\n",
    "# Training\n",
    "X_train_tensor = tf.convert_to_tensor(X_train, dtype=tf.float32)\n",
    "for epoch in range(50):\n",
    "    loss = train_step(X_train_tensor)\n",
    "    if epoch % 5 == 0:\n",
    "        print(f\"Epoch {epoch}, Loss: {loss.numpy():.4f}\")\n"
   ]
  },
  {
   "cell_type": "code",
   "execution_count": 35,
   "metadata": {
    "execution": {
     "iopub.execute_input": "2025-06-10T14:33:16.297780Z",
     "iopub.status.busy": "2025-06-10T14:33:16.297411Z",
     "iopub.status.idle": "2025-06-10T14:34:07.352464Z",
     "shell.execute_reply": "2025-06-10T14:34:07.351572Z",
     "shell.execute_reply.started": "2025-06-10T14:33:16.297758Z"
    },
    "trusted": true
   },
   "outputs": [
    {
     "name": "stdout",
     "output_type": "stream",
     "text": [
      "\u001b[1m18358/18358\u001b[0m \u001b[32m━━━━━━━━━━━━━━━━━━━━\u001b[0m\u001b[37m\u001b[0m \u001b[1m20s\u001b[0m 1ms/step\n",
      "\u001b[1m15949/15949\u001b[0m \u001b[32m━━━━━━━━━━━━━━━━━━━━\u001b[0m\u001b[37m\u001b[0m \u001b[1m17s\u001b[0m 1ms/step\n"
     ]
    }
   ],
   "source": [
    "# Compute distances to center\n",
    "X_test_encoded = deep_svdd.predict(X_test)\n",
    "distances = np.linalg.norm(X_test_encoded - center, axis=1)\n",
    "\n",
    "# Threshold\n",
    "threshold_svdd = np.percentile(np.linalg.norm(deep_svdd.predict(X_train) - center, axis=1), 95)\n",
    "\n",
    "# Prediction\n",
    "svdd_preds = (distances > threshold_svdd).astype(int)\n"
   ]
  },
  {
   "cell_type": "code",
   "execution_count": 36,
   "metadata": {
    "execution": {
     "iopub.execute_input": "2025-06-10T14:34:07.353916Z",
     "iopub.status.busy": "2025-06-10T14:34:07.353582Z",
     "iopub.status.idle": "2025-06-10T14:34:09.561955Z",
     "shell.execute_reply": "2025-06-10T14:34:09.560751Z",
     "shell.execute_reply.started": "2025-06-10T14:34:07.353892Z"
    },
    "trusted": true
   },
   "outputs": [
    {
     "name": "stdout",
     "output_type": "stream",
     "text": [
      "\n",
      "=== Evaluation for Deep SVDD ===\n",
      "Accuracy:  0.9257\n",
      "Precision: 0.1512\n",
      "Recall:    0.2472\n",
      "F1 Score:  0.1876\n",
      "ROC AUC:   0.6769\n",
      "PR AUC:    0.1082\n",
      "\n",
      "Classification Report:\n",
      "               precision    recall  f1-score   support\n",
      "\n",
      "           0       0.97      0.95      0.96    567057\n",
      "           1       0.15      0.25      0.19     20384\n",
      "\n",
      "    accuracy                           0.93    587441\n",
      "   macro avg       0.56      0.60      0.57    587441\n",
      "weighted avg       0.94      0.93      0.93    587441\n",
      "\n",
      "Confusion Matrix:\n",
      " [[538767  28290]\n",
      " [ 15346   5038]]\n"
     ]
    },
    {
     "data": {
      "image/png": "[encoded data removed]",
      "text/plain": [
       "<Figure size 600x500 with 1 Axes>"
      ]
     },
     "metadata": {},
     "output_type": "display_data"
    }
   ],
   "source": [
    "evaluate_model(\"Deep SVDD\", y_all, svdd_preds, scores=distances)\n"
   ]
  }
 ],
 "metadata": {
  "kaggle": {
   "accelerator": "none",
   "dataSources": [
    {
     "datasetId": 7605940,
     "sourceId": 12082227,
     "sourceType": "datasetVersion"
    }
   ],
   "dockerImageVersionId": 31040,
   "isGpuEnabled": false,
   "isInternetEnabled": true,
   "language": "python",
   "sourceType": "notebook"
  },
  "kernelspec": {
   "display_name": "Python 3",
   "language": "python",
   "name": "python3"
  },
  "language_info": {
   "codemirror_mode": {
    "name": "ipython",
    "version": 3
   },
   "file_extension": ".py",
   "mimetype": "text/x-python",
   "name": "python",
   "nbconvert_exporter": "python",
   "pygments_lexer": "ipython3",
   "version": "3.11.11"
  }
 },
 "nbformat": 4,
 "nbformat_minor": 4
}
